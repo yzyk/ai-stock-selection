{
 "cells": [
  {
   "cell_type": "code",
   "execution_count": 1,
   "id": "3b76dbdc",
   "metadata": {
    "ExecuteTime": {
     "end_time": "2022-12-07T01:16:49.289242Z",
     "start_time": "2022-12-07T01:15:30.679487Z"
    }
   },
   "outputs": [
    {
     "name": "stdout",
     "output_type": "stream",
     "text": [
      "X_train shape: (119, 30, 488, 152)\n",
      "y_train shape: (119, 15, 488, 1)\n",
      "X_valid shape: (21, 30, 488, 152)\n",
      "y_valid shape: (21, 15, 488, 1)\n"
     ]
    }
   ],
   "source": [
    "'''\n",
    "import sys\n",
    "sys.path.append('./Stlearn')\n",
    "from Stlearn.Factory import *\n",
    "from Stlearn.Portfolio import *\n",
    "from Stlearn.ProcessedData import *\n",
    "import Constant\n",
    "import numpy as np\n",
    "\n",
    "\n",
    "\n",
    "data = FourDimWinDataByDateByWinByStockByFeature('2019-06-01', '2020-01-01', '2020-02-01', '2020-03-01', 30, 15)\n",
    "X_train = data.X_train\n",
    "X_val = data.X_val\n",
    "X_test = data.X_test\n",
    "\n",
    "y_train = data.y_train\n",
    "y_val = data.y_val\n",
    "\n",
    "ids_test = data.ids_test\n",
    "np.savez_compressed('/Users/keyang/Desktop/test/m4', X_train, X_val, X_test, y_train, y_val, ids_test)\n",
    "\n",
    "'''\n",
    "\n"
   ]
  },
  {
   "cell_type": "code",
   "execution_count": 1,
   "id": "52bf9594",
   "metadata": {
    "ExecuteTime": {
     "end_time": "2022-12-07T01:21:53.158257Z",
     "start_time": "2022-12-07T01:19:34.598490Z"
    },
    "scrolled": true
   },
   "outputs": [
    {
     "name": "stdout",
     "output_type": "stream",
     "text": [
      "X_train shape: (119, 30, 488, 152)\n",
      "y_train shape: (119, 15, 488, 1)\n",
      "X_valid shape: (21, 30, 488, 152)\n",
      "y_valid shape: (21, 15, 488, 1)\n"
     ]
    }
   ],
   "source": [
    "\n",
    "import sys\n",
    "sys.path.append('./Stlearn')\n",
    "from Stlearn.Factory import *\n",
    "from Stlearn.Portfolio import *\n",
    "from Stlearn.ProcessedData import *\n",
    "import Constant\n",
    "import numpy as np\n",
    "\n",
    "\n",
    "\n",
    "data = FourDimWinDataByDateByWinByStockByFeature('2019-06-01', '2020-01-01', '2020-02-01', '2020-03-01', 30, 15)\n",
    "X_train = data.X_train.generate_all()\n",
    "X_val = data.X_val.generate_all()\n",
    "X_test = data.X_test.generate_all()\n",
    "\n",
    "y_train = data.y_train.generate_all()\n",
    "y_val = data.y_val.generate_all()\n",
    "\n",
    "ids_test = data.ids_test.generate_all()\n",
    "np.savez_compressed('/Users/keyang/Desktop/test/g4', X_train, X_val, X_test, y_train, y_val, ids_test)\n",
    "\n"
   ]
  },
  {
   "cell_type": "code",
   "execution_count": 5,
   "id": "56f04289",
   "metadata": {
    "ExecuteTime": {
     "end_time": "2022-12-07T01:24:26.076626Z",
     "start_time": "2022-12-07T01:23:25.267684Z"
    }
   },
   "outputs": [
    {
     "name": "stdout",
     "output_type": "stream",
     "text": [
      "arr_0passed\n",
      "arr_1passed\n",
      "arr_2passed\n",
      "arr_3passed\n",
      "arr_4passed\n",
      "arr_5passed\n"
     ]
    }
   ],
   "source": [
    "\n",
    "import numpy as np\n",
    "\n",
    "g = np.load('/Users/keyang/Desktop/test/g4.npz',allow_pickle=True)\n",
    "m = np.load('/Users/keyang/Desktop/test/m4.npz',allow_pickle=True)\n",
    "\n",
    "for i in ['arr_' + str(i) for i in range(6)]:\n",
    "    np.testing.assert_array_equal(g[i], m[i])\n",
    "    print(str(i) + \"passed\")\n"
   ]
  },
  {
   "cell_type": "code",
   "execution_count": 1,
   "id": "83286ec1",
   "metadata": {
    "ExecuteTime": {
     "end_time": "2022-12-07T00:16:30.034034Z",
     "start_time": "2022-12-07T00:16:24.306952Z"
    },
    "scrolled": true
   },
   "outputs": [
    {
     "name": "stdout",
     "output_type": "stream",
     "text": [
      "X_train shape: (72224, 152)\n",
      "y_train shape: (72224,)\n",
      "X_valid shape: (10248, 152)\n",
      "y_valid shape: (10248,)\n"
     ]
    }
   ],
   "source": [
    "\n",
    "import sys\n",
    "sys.path.append('./Stlearn')\n",
    "from Stlearn.Factory import *\n",
    "from Stlearn.Portfolio import *\n",
    "from Stlearn.ProcessedData import *\n",
    "import Constant\n",
    "import numpy as np\n",
    "\n",
    "\n",
    "\n",
    "data = TwoDimUnWinDataByStockDateByFeature('2019-06-01', '2020-01-01', '2020-02-01', '2020-03-01')\n",
    "X_train = data.X_train.generate_all()\n",
    "X_val = data.X_val.generate_all()\n",
    "X_test = data.X_test.generate_all()\n",
    "\n",
    "y_train = data.y_train.generate_all()\n",
    "y_val = data.y_val.generate_all()\n",
    "\n",
    "ids_test = data.ids_test.generate_all()\n",
    "\n"
   ]
  },
  {
   "cell_type": "code",
   "execution_count": 6,
   "id": "c10be160",
   "metadata": {
    "ExecuteTime": {
     "end_time": "2022-12-07T01:10:56.291454Z",
     "start_time": "2022-12-07T01:10:56.286559Z"
    }
   },
   "outputs": [
    {
     "data": {
      "text/plain": [
       "array([['2020-02-03', 'ACN', 200.0713348388672, 0.012621045357390948,\n",
       "        0.0072546138923517],\n",
       "       ['2020-02-04', 'ACN', 204.62542724609372, 0.0227623432956765,\n",
       "        0.0149804141640821],\n",
       "       ['2020-02-05', 'ACN', 204.32696533203125, -0.0014585768644652664,\n",
       "        0.0112505958978537],\n",
       "       ...,\n",
       "       ['2020-02-26', 'ZTS', 133.84523010253906, 0.009864961914548775,\n",
       "        -0.003778540605322],\n",
       "       ['2020-02-27', 'ZTS', 131.6824493408203, -0.016158818361041605,\n",
       "        -0.0441632425840791],\n",
       "       ['2020-02-28', 'ZTS', 130.97463989257812, -0.005375123653800218,\n",
       "        -0.0082383404443618]], dtype=object)"
      ]
     },
     "execution_count": 6,
     "metadata": {},
     "output_type": "execute_result"
    }
   ],
   "source": [
    "ids_test"
   ]
  },
  {
   "cell_type": "code",
   "execution_count": 2,
   "id": "62de777a",
   "metadata": {
    "ExecuteTime": {
     "end_time": "2022-12-07T00:16:51.984115Z",
     "start_time": "2022-12-07T00:16:50.567859Z"
    }
   },
   "outputs": [],
   "source": [
    "\n",
    "np.savez_compressed('/Users/keyang/Desktop/test/g1', X_train, X_val, X_test, y_train, y_val, ids_test)\n"
   ]
  },
  {
   "cell_type": "code",
   "execution_count": 6,
   "id": "0c12f864",
   "metadata": {
    "ExecuteTime": {
     "end_time": "2022-12-07T02:00:57.925599Z",
     "start_time": "2022-12-07T02:00:53.194554Z"
    }
   },
   "outputs": [
    {
     "ename": "KeyboardInterrupt",
     "evalue": "",
     "output_type": "error",
     "traceback": [
      "\u001b[0;31m---------------------------------------------------------------------------\u001b[0m",
      "\u001b[0;31mKeyboardInterrupt\u001b[0m                         Traceback (most recent call last)",
      "Input \u001b[0;32mIn [6]\u001b[0m, in \u001b[0;36m<cell line: 8>\u001b[0;34m()\u001b[0m\n\u001b[1;32m      6\u001b[0m \u001b[38;5;28;01mimport\u001b[39;00m \u001b[38;5;21;01mConstant\u001b[39;00m\n\u001b[1;32m      7\u001b[0m \u001b[38;5;28;01mimport\u001b[39;00m \u001b[38;5;21;01mnumpy\u001b[39;00m \u001b[38;5;28;01mas\u001b[39;00m \u001b[38;5;21;01mnp\u001b[39;00m\n\u001b[0;32m----> 8\u001b[0m data \u001b[38;5;241m=\u001b[39m \u001b[43mTwoDimUnWinDataByStockDateByFeature\u001b[49m\u001b[43m(\u001b[49m\u001b[38;5;124;43m'\u001b[39;49m\u001b[38;5;124;43m2019-06-01\u001b[39;49m\u001b[38;5;124;43m'\u001b[39;49m\u001b[43m,\u001b[49m\u001b[43m \u001b[49m\u001b[38;5;124;43m'\u001b[39;49m\u001b[38;5;124;43m2020-01-01\u001b[39;49m\u001b[38;5;124;43m'\u001b[39;49m\u001b[43m,\u001b[49m\u001b[43m \u001b[49m\u001b[38;5;124;43m'\u001b[39;49m\u001b[38;5;124;43m2020-02-01\u001b[39;49m\u001b[38;5;124;43m'\u001b[39;49m\u001b[43m,\u001b[49m\u001b[43m \u001b[49m\u001b[38;5;124;43m'\u001b[39;49m\u001b[38;5;124;43m2020-03-01\u001b[39;49m\u001b[38;5;124;43m'\u001b[39;49m\u001b[43m)\u001b[49m\n",
      "File \u001b[0;32m~/Library/CloudStorage/OneDrive-Personal/capstone/Deliverable/project/Stlearn/ProcessedData.py:9\u001b[0m, in \u001b[0;36mProcessedData.__init__\u001b[0;34m(self, train_start, val_start, test_start, test_end, *args)\u001b[0m\n\u001b[1;32m      7\u001b[0m \u001b[38;5;28;01mdef\u001b[39;00m \u001b[38;5;21m__init__\u001b[39m(\u001b[38;5;28mself\u001b[39m, train_start, val_start, test_start, test_end, \u001b[38;5;241m*\u001b[39margs):\n\u001b[1;32m      8\u001b[0m     \u001b[38;5;28msuper\u001b[39m()\u001b[38;5;241m.\u001b[39m\u001b[38;5;21m__init__\u001b[39m()\n\u001b[0;32m----> 9\u001b[0m     \u001b[38;5;28;43mself\u001b[39;49m\u001b[38;5;241;43m.\u001b[39;49m\u001b[43mgenerate\u001b[49m\u001b[43m(\u001b[49m\u001b[43mtrain_start\u001b[49m\u001b[43m,\u001b[49m\u001b[43m \u001b[49m\u001b[43mval_start\u001b[49m\u001b[43m,\u001b[49m\u001b[43m \u001b[49m\u001b[43mtest_start\u001b[49m\u001b[43m,\u001b[49m\u001b[43m \u001b[49m\u001b[43mtest_end\u001b[49m\u001b[43m,\u001b[49m\u001b[43m \u001b[49m\u001b[38;5;241;43m*\u001b[39;49m\u001b[43margs\u001b[49m\u001b[43m)\u001b[49m\n\u001b[1;32m     10\u001b[0m     \u001b[38;5;28msuper\u001b[39m()\u001b[38;5;241m.\u001b[39m_log()\n",
      "File \u001b[0;32m~/Library/CloudStorage/OneDrive-Personal/capstone/Deliverable/project/Stlearn/ProcessedData.py:20\u001b[0m, in \u001b[0;36mTwoDimUnWinDataByStockDateByFeature.generate\u001b[0;34m(self, train_start, val_start, test_start, test_end)\u001b[0m\n\u001b[1;32m     19\u001b[0m \u001b[38;5;28;01mdef\u001b[39;00m \u001b[38;5;21mgenerate\u001b[39m(\u001b[38;5;28mself\u001b[39m, train_start, val_start, test_start, test_end):\n\u001b[0;32m---> 20\u001b[0m     data \u001b[38;5;241m=\u001b[39m \u001b[43mDiskData\u001b[49m\u001b[43m(\u001b[49m\u001b[43mtrain_start\u001b[49m\u001b[43m,\u001b[49m\u001b[43m \u001b[49m\u001b[43mval_start\u001b[49m\u001b[43m,\u001b[49m\u001b[43m \u001b[49m\u001b[43mtest_start\u001b[49m\u001b[43m,\u001b[49m\u001b[43m \u001b[49m\u001b[43mtest_end\u001b[49m\u001b[43m)\u001b[49m\n\u001b[1;32m     21\u001b[0m     data \u001b[38;5;241m=\u001b[39m PreSplitScaler(data)\n\u001b[1;32m     22\u001b[0m     data \u001b[38;5;241m=\u001b[39m StandardSplitProcessor(data)\n",
      "File \u001b[0;32m~/Library/CloudStorage/OneDrive-Personal/capstone/Deliverable/project/./Stlearn/GeneratedDataRecipe.py:12\u001b[0m, in \u001b[0;36mDiskData.__init__\u001b[0;34m(self, train_start, val_start, test_start, test_end)\u001b[0m\n\u001b[1;32m     10\u001b[0m \u001b[38;5;28;01mdef\u001b[39;00m \u001b[38;5;21m__init__\u001b[39m(\u001b[38;5;28mself\u001b[39m, train_start, val_start, test_start, test_end) \u001b[38;5;241m-\u001b[39m\u001b[38;5;241m>\u001b[39m \u001b[38;5;28;01mNone\u001b[39;00m:\n\u001b[1;32m     11\u001b[0m     \u001b[38;5;28msuper\u001b[39m()\u001b[38;5;241m.\u001b[39m\u001b[38;5;21m__init__\u001b[39m()\n\u001b[0;32m---> 12\u001b[0m     \u001b[38;5;28;43mself\u001b[39;49m\u001b[38;5;241;43m.\u001b[39;49m\u001b[43m_read_data\u001b[49m\u001b[43m(\u001b[49m\u001b[43mtrain_start\u001b[49m\u001b[43m,\u001b[49m\u001b[43m \u001b[49m\u001b[43mval_start\u001b[49m\u001b[43m,\u001b[49m\u001b[43m \u001b[49m\u001b[43mtest_start\u001b[49m\u001b[43m,\u001b[49m\u001b[43m \u001b[49m\u001b[43mtest_end\u001b[49m\u001b[43m)\u001b[49m\n\u001b[1;32m     13\u001b[0m     \u001b[38;5;28mself\u001b[39m\u001b[38;5;241m.\u001b[39mgenerate()\n\u001b[1;32m     14\u001b[0m     \u001b[38;5;28;01mpass\u001b[39;00m\n",
      "File \u001b[0;32m~/Library/CloudStorage/OneDrive-Personal/capstone/Deliverable/project/./Stlearn/GeneratedDataRecipe.py:21\u001b[0m, in \u001b[0;36mDiskData._read_data\u001b[0;34m(self, train_start, val_start, test_start, test_end)\u001b[0m\n\u001b[1;32m     17\u001b[0m \u001b[38;5;28mself\u001b[39m\u001b[38;5;241m.\u001b[39m_data \u001b[38;5;241m=\u001b[39m pd\u001b[38;5;241m.\u001b[39mread_parquet(Constant\u001b[38;5;241m.\u001b[39mDATA_PATH)\n\u001b[1;32m     19\u001b[0m \u001b[38;5;66;03m# data slice\u001b[39;00m\n\u001b[0;32m---> 21\u001b[0m \u001b[38;5;28mself\u001b[39m\u001b[38;5;241m.\u001b[39m_data \u001b[38;5;241m=\u001b[39m \u001b[38;5;28mself\u001b[39m\u001b[38;5;241m.\u001b[39m_data[(\u001b[38;5;28;43mself\u001b[39;49m\u001b[38;5;241;43m.\u001b[39;49m\u001b[43m_data\u001b[49m\u001b[43m[\u001b[49m\u001b[38;5;124;43m'\u001b[39;49m\u001b[38;5;124;43mDate\u001b[39;49m\u001b[38;5;124;43m'\u001b[39;49m\u001b[43m]\u001b[49m\u001b[43m \u001b[49m\u001b[38;5;241;43m>\u001b[39;49m\u001b[38;5;241;43m=\u001b[39;49m\u001b[43m \u001b[49m\u001b[43mtrain_start\u001b[49m) \u001b[38;5;241m&\u001b[39m\n\u001b[1;32m     22\u001b[0m                         (\u001b[38;5;28mself\u001b[39m\u001b[38;5;241m.\u001b[39m_data[\u001b[38;5;124m'\u001b[39m\u001b[38;5;124mDate\u001b[39m\u001b[38;5;124m'\u001b[39m] \u001b[38;5;241m<\u001b[39m test_end)]\u001b[38;5;241m.\u001b[39mreset_index()\u001b[38;5;241m.\u001b[39mdrop(\u001b[38;5;124m'\u001b[39m\u001b[38;5;124mindex\u001b[39m\u001b[38;5;124m'\u001b[39m, axis\u001b[38;5;241m=\u001b[39m\u001b[38;5;241m1\u001b[39m)\n\u001b[1;32m     24\u001b[0m \u001b[38;5;66;03m# data check\u001b[39;00m\n\u001b[1;32m     26\u001b[0m count \u001b[38;5;241m=\u001b[39m \u001b[38;5;28mself\u001b[39m\u001b[38;5;241m.\u001b[39m_data\u001b[38;5;241m.\u001b[39mgroupby(\u001b[38;5;124m'\u001b[39m\u001b[38;5;124mTicker\u001b[39m\u001b[38;5;124m'\u001b[39m)[\u001b[38;5;124m'\u001b[39m\u001b[38;5;124mTicker\u001b[39m\u001b[38;5;124m'\u001b[39m]\u001b[38;5;241m.\u001b[39mcount()\n",
      "File \u001b[0;32m~/miniforge3/envs/py38/lib/python3.8/site-packages/pandas/core/ops/common.py:72\u001b[0m, in \u001b[0;36m_unpack_zerodim_and_defer.<locals>.new_method\u001b[0;34m(self, other)\u001b[0m\n\u001b[1;32m     68\u001b[0m             \u001b[38;5;28;01mreturn\u001b[39;00m \u001b[38;5;28mNotImplemented\u001b[39m\n\u001b[1;32m     70\u001b[0m other \u001b[38;5;241m=\u001b[39m item_from_zerodim(other)\n\u001b[0;32m---> 72\u001b[0m \u001b[38;5;28;01mreturn\u001b[39;00m \u001b[43mmethod\u001b[49m\u001b[43m(\u001b[49m\u001b[38;5;28;43mself\u001b[39;49m\u001b[43m,\u001b[49m\u001b[43m \u001b[49m\u001b[43mother\u001b[49m\u001b[43m)\u001b[49m\n",
      "File \u001b[0;32m~/miniforge3/envs/py38/lib/python3.8/site-packages/pandas/core/arraylike.py:62\u001b[0m, in \u001b[0;36mOpsMixin.__ge__\u001b[0;34m(self, other)\u001b[0m\n\u001b[1;32m     60\u001b[0m \u001b[38;5;129m@unpack_zerodim_and_defer\u001b[39m(\u001b[38;5;124m\"\u001b[39m\u001b[38;5;124m__ge__\u001b[39m\u001b[38;5;124m\"\u001b[39m)\n\u001b[1;32m     61\u001b[0m \u001b[38;5;28;01mdef\u001b[39;00m \u001b[38;5;21m__ge__\u001b[39m(\u001b[38;5;28mself\u001b[39m, other):\n\u001b[0;32m---> 62\u001b[0m     \u001b[38;5;28;01mreturn\u001b[39;00m \u001b[38;5;28;43mself\u001b[39;49m\u001b[38;5;241;43m.\u001b[39;49m\u001b[43m_cmp_method\u001b[49m\u001b[43m(\u001b[49m\u001b[43mother\u001b[49m\u001b[43m,\u001b[49m\u001b[43m \u001b[49m\u001b[43moperator\u001b[49m\u001b[38;5;241;43m.\u001b[39;49m\u001b[43mge\u001b[49m\u001b[43m)\u001b[49m\n",
      "File \u001b[0;32m~/miniforge3/envs/py38/lib/python3.8/site-packages/pandas/core/series.py:6243\u001b[0m, in \u001b[0;36mSeries._cmp_method\u001b[0;34m(self, other, op)\u001b[0m\n\u001b[1;32m   6240\u001b[0m rvalues \u001b[38;5;241m=\u001b[39m extract_array(other, extract_numpy\u001b[38;5;241m=\u001b[39m\u001b[38;5;28;01mTrue\u001b[39;00m, extract_range\u001b[38;5;241m=\u001b[39m\u001b[38;5;28;01mTrue\u001b[39;00m)\n\u001b[1;32m   6242\u001b[0m \u001b[38;5;28;01mwith\u001b[39;00m np\u001b[38;5;241m.\u001b[39merrstate(\u001b[38;5;28mall\u001b[39m\u001b[38;5;241m=\u001b[39m\u001b[38;5;124m\"\u001b[39m\u001b[38;5;124mignore\u001b[39m\u001b[38;5;124m\"\u001b[39m):\n\u001b[0;32m-> 6243\u001b[0m     res_values \u001b[38;5;241m=\u001b[39m \u001b[43mops\u001b[49m\u001b[38;5;241;43m.\u001b[39;49m\u001b[43mcomparison_op\u001b[49m\u001b[43m(\u001b[49m\u001b[43mlvalues\u001b[49m\u001b[43m,\u001b[49m\u001b[43m \u001b[49m\u001b[43mrvalues\u001b[49m\u001b[43m,\u001b[49m\u001b[43m \u001b[49m\u001b[43mop\u001b[49m\u001b[43m)\u001b[49m\n\u001b[1;32m   6245\u001b[0m \u001b[38;5;28;01mreturn\u001b[39;00m \u001b[38;5;28mself\u001b[39m\u001b[38;5;241m.\u001b[39m_construct_result(res_values, name\u001b[38;5;241m=\u001b[39mres_name)\n",
      "File \u001b[0;32m~/miniforge3/envs/py38/lib/python3.8/site-packages/pandas/core/ops/array_ops.py:287\u001b[0m, in \u001b[0;36mcomparison_op\u001b[0;34m(left, right, op)\u001b[0m\n\u001b[1;32m    284\u001b[0m     \u001b[38;5;28;01mreturn\u001b[39;00m invalid_comparison(lvalues, rvalues, op)\n\u001b[1;32m    286\u001b[0m \u001b[38;5;28;01melif\u001b[39;00m is_object_dtype(lvalues\u001b[38;5;241m.\u001b[39mdtype) \u001b[38;5;129;01mor\u001b[39;00m \u001b[38;5;28misinstance\u001b[39m(rvalues, \u001b[38;5;28mstr\u001b[39m):\n\u001b[0;32m--> 287\u001b[0m     res_values \u001b[38;5;241m=\u001b[39m \u001b[43mcomp_method_OBJECT_ARRAY\u001b[49m\u001b[43m(\u001b[49m\u001b[43mop\u001b[49m\u001b[43m,\u001b[49m\u001b[43m \u001b[49m\u001b[43mlvalues\u001b[49m\u001b[43m,\u001b[49m\u001b[43m \u001b[49m\u001b[43mrvalues\u001b[49m\u001b[43m)\u001b[49m\n\u001b[1;32m    289\u001b[0m \u001b[38;5;28;01melse\u001b[39;00m:\n\u001b[1;32m    290\u001b[0m     res_values \u001b[38;5;241m=\u001b[39m _na_arithmetic_op(lvalues, rvalues, op, is_cmp\u001b[38;5;241m=\u001b[39m\u001b[38;5;28;01mTrue\u001b[39;00m)\n",
      "File \u001b[0;32m~/miniforge3/envs/py38/lib/python3.8/site-packages/pandas/core/ops/array_ops.py:75\u001b[0m, in \u001b[0;36mcomp_method_OBJECT_ARRAY\u001b[0;34m(op, x, y)\u001b[0m\n\u001b[1;32m     73\u001b[0m     result \u001b[38;5;241m=\u001b[39m libops\u001b[38;5;241m.\u001b[39mvec_compare(x\u001b[38;5;241m.\u001b[39mravel(), y\u001b[38;5;241m.\u001b[39mravel(), op)\n\u001b[1;32m     74\u001b[0m \u001b[38;5;28;01melse\u001b[39;00m:\n\u001b[0;32m---> 75\u001b[0m     result \u001b[38;5;241m=\u001b[39m \u001b[43mlibops\u001b[49m\u001b[38;5;241;43m.\u001b[39;49m\u001b[43mscalar_compare\u001b[49m\u001b[43m(\u001b[49m\u001b[43mx\u001b[49m\u001b[38;5;241;43m.\u001b[39;49m\u001b[43mravel\u001b[49m\u001b[43m(\u001b[49m\u001b[43m)\u001b[49m\u001b[43m,\u001b[49m\u001b[43m \u001b[49m\u001b[43my\u001b[49m\u001b[43m,\u001b[49m\u001b[43m \u001b[49m\u001b[43mop\u001b[49m\u001b[43m)\u001b[49m\n\u001b[1;32m     76\u001b[0m \u001b[38;5;28;01mreturn\u001b[39;00m result\u001b[38;5;241m.\u001b[39mreshape(x\u001b[38;5;241m.\u001b[39mshape)\n",
      "\u001b[0;31mKeyboardInterrupt\u001b[0m: "
     ]
    }
   ],
   "source": [
    "import sys\n",
    "sys.path.append('./Stlearn')\n",
    "from Stlearn.Factory import *\n",
    "from Stlearn.Portfolio import *\n",
    "from Stlearn.ProcessedData import *\n",
    "import Constant\n",
    "import numpy as np\n",
    "data = TwoDimUnWinDataByStockDateByFeature('2019-06-01', '2020-01-01', '2020-02-01', '2020-03-01')"
   ]
  },
  {
   "cell_type": "code",
   "execution_count": 1,
   "id": "7c8d011c",
   "metadata": {
    "ExecuteTime": {
     "end_time": "2022-12-07T18:58:48.662184Z",
     "start_time": "2022-12-07T18:58:33.441747Z"
    }
   },
   "outputs": [
    {
     "name": "stdout",
     "output_type": "stream",
     "text": [
      "X_train shape: (119, 30, 488, 152)\n",
      "y_train shape: (119, 15, 488, 1)\n",
      "X_valid shape: (21, 30, 488, 152)\n",
      "y_valid shape: (21, 15, 488, 1)\n"
     ]
    }
   ],
   "source": [
    "import sys\n",
    "sys.path.append('./Stlearn')\n",
    "from Stlearn.Factory import *\n",
    "from Stlearn.Portfolio import *\n",
    "from Stlearn.ProcessedData import *\n",
    "import Constant\n",
    "import numpy as np\n",
    "data = FourDimWinDataByDateByWinByStockByFeature('2019-06-01', '2020-01-01', '2020-02-01', '2020-03-01', 30, 15)"
   ]
  },
  {
   "cell_type": "code",
   "execution_count": 4,
   "id": "2e25bad2",
   "metadata": {
    "ExecuteTime": {
     "end_time": "2022-12-07T18:59:10.109484Z",
     "start_time": "2022-12-07T18:59:10.100287Z"
    }
   },
   "outputs": [],
   "source": [
    "gen = data._X_train"
   ]
  },
  {
   "cell_type": "code",
   "execution_count": 23,
   "id": "7109cfea",
   "metadata": {
    "ExecuteTime": {
     "end_time": "2022-12-07T18:59:59.640516Z",
     "start_time": "2022-12-07T18:59:59.620172Z"
    }
   },
   "outputs": [],
   "source": [
    "X = gen()"
   ]
  },
  {
   "cell_type": "code",
   "execution_count": 24,
   "id": "ad32cfac",
   "metadata": {
    "ExecuteTime": {
     "end_time": "2022-12-07T19:00:00.604236Z",
     "start_time": "2022-12-07T19:00:00.585522Z"
    }
   },
   "outputs": [
    {
     "data": {
      "text/plain": [
       "-0.007806876761876186"
      ]
     },
     "execution_count": 24,
     "metadata": {},
     "output_type": "execute_result"
    }
   ],
   "source": [
    "X.mean()"
   ]
  },
  {
   "cell_type": "code",
   "execution_count": 1,
   "id": "7f902b4a",
   "metadata": {
    "ExecuteTime": {
     "end_time": "2022-12-08T07:26:19.781465Z",
     "start_time": "2022-12-08T07:26:13.980466Z"
    }
   },
   "outputs": [
    {
     "name": "stderr",
     "output_type": "stream",
     "text": [
      "C:\\Users\\yzyan\\anaconda3\\lib\\site-packages\\scipy\\__init__.py:138: UserWarning: A NumPy version >=1.16.5 and <1.23.0 is required for this version of SciPy (detected version 1.23.5)\n",
      "  warnings.warn(f\"A NumPy version >={np_minversion} and <{np_maxversion} is required for this version of \"\n"
     ]
    },
    {
     "ename": "ModuleNotFoundError",
     "evalue": "No module named 'resource'",
     "output_type": "error",
     "traceback": [
      "\u001b[1;31m---------------------------------------------------------------------------\u001b[0m",
      "\u001b[1;31mModuleNotFoundError\u001b[0m                       Traceback (most recent call last)",
      "Cell \u001b[1;32mIn [1], line 6\u001b[0m\n\u001b[0;32m      3\u001b[0m \u001b[38;5;28;01mimport\u001b[39;00m \u001b[38;5;21;01msys\u001b[39;00m\n\u001b[0;32m      5\u001b[0m sys\u001b[38;5;241m.\u001b[39mpath\u001b[38;5;241m.\u001b[39mappend(\u001b[38;5;124m'\u001b[39m\u001b[38;5;124m./Stlearn\u001b[39m\u001b[38;5;124m'\u001b[39m)\n\u001b[1;32m----> 6\u001b[0m \u001b[38;5;28;01mfrom\u001b[39;00m \u001b[38;5;21;01mFactory\u001b[39;00m \u001b[38;5;28;01mimport\u001b[39;00m \u001b[38;5;241m*\u001b[39m\n\u001b[0;32m      7\u001b[0m \u001b[38;5;28;01mfrom\u001b[39;00m \u001b[38;5;21;01mPortfolio\u001b[39;00m \u001b[38;5;28;01mimport\u001b[39;00m \u001b[38;5;241m*\u001b[39m\n\u001b[0;32m      8\u001b[0m \u001b[38;5;28;01mfrom\u001b[39;00m \u001b[38;5;21;01mDataProcessor\u001b[39;00m \u001b[38;5;28;01mimport\u001b[39;00m \u001b[38;5;241m*\u001b[39m\n",
      "File \u001b[1;32m~\\OneDrive\\capstone\\Deliverable\\project\\Stlearn\\Factory.py:5\u001b[0m\n\u001b[0;32m      3\u001b[0m \u001b[38;5;28;01mimport\u001b[39;00m \u001b[38;5;21;01mConstant\u001b[39;00m\n\u001b[0;32m      4\u001b[0m \u001b[38;5;28;01mfrom\u001b[39;00m \u001b[38;5;21;01mDataProcessor\u001b[39;00m \u001b[38;5;28;01mimport\u001b[39;00m \u001b[38;5;241m*\u001b[39m\n\u001b[1;32m----> 5\u001b[0m \u001b[38;5;28;01mfrom\u001b[39;00m \u001b[38;5;21;01mModel\u001b[39;00m \u001b[38;5;28;01mimport\u001b[39;00m \u001b[38;5;241m*\u001b[39m\n\u001b[0;32m      8\u001b[0m \u001b[38;5;28;01mclass\u001b[39;00m \u001b[38;5;21;01mStlearnFactory\u001b[39;00m(ABC):\n\u001b[0;32m      9\u001b[0m     _data \u001b[38;5;241m=\u001b[39m \u001b[38;5;28;01mNone\u001b[39;00m\n",
      "File \u001b[1;32m~\\OneDrive\\capstone\\Deliverable\\project\\Stlearn\\Model.py:11\u001b[0m\n\u001b[0;32m      9\u001b[0m \u001b[38;5;28;01mimport\u001b[39;00m \u001b[38;5;21;01mConstant\u001b[39;00m\n\u001b[0;32m     10\u001b[0m \u001b[38;5;28;01mfrom\u001b[39;00m \u001b[38;5;21;01mDataProcessor\u001b[39;00m \u001b[38;5;28;01mimport\u001b[39;00m \u001b[38;5;241m*\u001b[39m\n\u001b[1;32m---> 11\u001b[0m \u001b[38;5;28;01mfrom\u001b[39;00m \u001b[38;5;21;01mZoo\u001b[39;00m \u001b[38;5;28;01mimport\u001b[39;00m \u001b[38;5;241m*\u001b[39m\n\u001b[0;32m     12\u001b[0m \u001b[38;5;28;01mfrom\u001b[39;00m \u001b[38;5;21;01mCallback\u001b[39;00m \u001b[38;5;28;01mimport\u001b[39;00m \u001b[38;5;241m*\u001b[39m\n\u001b[0;32m     13\u001b[0m \u001b[38;5;28;01mimport\u001b[39;00m \u001b[38;5;21;01mnumpy\u001b[39;00m \u001b[38;5;28;01mas\u001b[39;00m \u001b[38;5;21;01mnp\u001b[39;00m\n",
      "File \u001b[1;32m~\\OneDrive\\capstone\\Deliverable\\project\\Stlearn\\Zoo.py:13\u001b[0m\n\u001b[0;32m     11\u001b[0m \u001b[38;5;28;01mimport\u001b[39;00m \u001b[38;5;21;01mtensorflow\u001b[39;00m \u001b[38;5;28;01mas\u001b[39;00m \u001b[38;5;21;01mtf\u001b[39;00m\n\u001b[0;32m     12\u001b[0m \u001b[38;5;28;01mimport\u001b[39;00m \u001b[38;5;21;01mtensorflow_probability\u001b[39;00m \u001b[38;5;28;01mas\u001b[39;00m \u001b[38;5;21;01mtfp\u001b[39;00m\n\u001b[1;32m---> 13\u001b[0m \u001b[38;5;28;01mfrom\u001b[39;00m \u001b[38;5;21;01mCallback\u001b[39;00m \u001b[38;5;28;01mimport\u001b[39;00m \u001b[38;5;241m*\u001b[39m\n\u001b[0;32m     14\u001b[0m \u001b[38;5;28;01mfrom\u001b[39;00m \u001b[38;5;21;01mutils\u001b[39;00m \u001b[38;5;28;01mimport\u001b[39;00m \u001b[38;5;241m*\u001b[39m\n\u001b[0;32m     15\u001b[0m \u001b[38;5;28;01mimport\u001b[39;00m \u001b[38;5;21;01mConstant\u001b[39;00m\n",
      "File \u001b[1;32m~\\OneDrive\\capstone\\Deliverable\\project\\Stlearn\\Callback.py:2\u001b[0m\n\u001b[0;32m      1\u001b[0m \u001b[38;5;28;01mimport\u001b[39;00m \u001b[38;5;21;01mtensorflow\u001b[39;00m \u001b[38;5;28;01mas\u001b[39;00m \u001b[38;5;21;01mtf\u001b[39;00m\n\u001b[1;32m----> 2\u001b[0m \u001b[38;5;28;01mimport\u001b[39;00m \u001b[38;5;21;01mresource\u001b[39;00m\n\u001b[0;32m      5\u001b[0m \u001b[38;5;28;01mclass\u001b[39;00m \u001b[38;5;21;01mMyCallback\u001b[39;00m(tf\u001b[38;5;241m.\u001b[39mkeras\u001b[38;5;241m.\u001b[39mcallbacks\u001b[38;5;241m.\u001b[39mCallback):\n\u001b[0;32m      7\u001b[0m     \u001b[38;5;28;01mdef\u001b[39;00m \u001b[38;5;21mon_epoch_end\u001b[39m(\u001b[38;5;28mself\u001b[39m, epoch, logs\u001b[38;5;241m=\u001b[39m\u001b[38;5;28;01mNone\u001b[39;00m):\n",
      "\u001b[1;31mModuleNotFoundError\u001b[0m: No module named 'resource'"
     ]
    }
   ],
   "source": [
    "import unittest\n",
    "\n",
    "import sys\n",
    "\n",
    "sys.path.append('./Stlearn')\n",
    "from Factory import *\n",
    "from Portfolio import *\n",
    "from DataProcessor import *\n",
    "import Constant\n",
    "import numpy as np\n",
    "\n",
    "\n",
    "class MyTestCase(unittest.TestCase):\n",
    "\n",
    "    @classmethod\n",
    "    def load(cls, processor):\n",
    "        data = processor.load_data()\n",
    "        X_train = data.X_train.generate_all()\n",
    "        X_val = data.X_val.generate_all()\n",
    "        X_test = data.X_test.generate_all()\n",
    "\n",
    "        y_train = data.y_train.generate_all()\n",
    "        y_val = data.y_val.generate_all()\n",
    "\n",
    "        ids_test = data.ids_test.generate_all()\n",
    "\n",
    "        return X_train, X_val, X_test, y_train, y_val, ids_test\n",
    "\n",
    "    def test_1(self):\n",
    "        a = self.load(TwoDimUnWinDataByStockDateByFeatureProcessor(\n",
    "            '2019-08-01', '2020-01-01', '2020-02-01', '2020-03-01', generator=True))\n",
    "        b = self.load(TwoDimUnWinDataByStockDateByFeatureProcessor(\n",
    "            '2019-08-01', '2020-01-01', '2020-02-01', '2020-03-01', generator=False))\n",
    "        for i in range(6):\n",
    "            np.testing.assert_array_equal(a[i], b[i])\n",
    "            print(str(i) + \"passed\")\n",
    "\n",
    "    def test_2(self):\n",
    "        a = self.load(ThreeDimUnWinDataByDateByStockByFeatureProcessor(\n",
    "            '2019-08-01', '2020-01-01', '2020-02-01', '2020-03-01', generator=True))\n",
    "        b = self.load(ThreeDimUnWinDataByDateByStockByFeatureProcessor(\n",
    "            '2019-08-01', '2020-01-01', '2020-02-01', '2020-03-01', generator=False))\n",
    "        for i in range(6):\n",
    "            np.testing.assert_array_equal(a[i], b[i])\n",
    "            print(str(i) + \"passed\")\n",
    "\n",
    "    def test_3(self):\n",
    "        a = self.load(ThreeDimWinDataByStockDateByWinByFeatureProcessor(\n",
    "            '2019-08-01', '2020-01-01', '2020-02-01', '2020-03-01', 30, 15, generator=True))\n",
    "        b = self.load(ThreeDimWinDataByStockDateByWinByFeatureProcessor(\n",
    "            '2019-08-01', '2020-01-01', '2020-02-01', '2020-03-01', 30, 15, generator=False))\n",
    "        for i in range(6):\n",
    "            np.testing.assert_array_equal(a[i], b[i])\n",
    "            print(str(i) + \"passed\")\n",
    "\n",
    "    def test_4(self):\n",
    "        a = self.load(FourDimWinDataByDateByWinByStockByFeatureProcessor(\n",
    "            '2019-08-01', '2020-01-01', '2020-02-01', '2020-03-01', 30, 15, generator=True))\n",
    "        b = self.load(FourDimWinDataByDateByWinByStockByFeatureProcessor(\n",
    "            '2019-08-01', '2020-01-01', '2020-02-01', '2020-03-01', 30, 15, generator=False))\n",
    "        for i in range(6):\n",
    "            np.testing.assert_array_equal(a[i], b[i])\n",
    "            print(str(i) + \"passed\")\n",
    "\n",
    "\n",
    "if __name__ == '__main__':\n",
    "    unittest.main()"
   ]
  }
 ],
 "metadata": {
  "kernelspec": {
   "display_name": "Python 3 (ipykernel)",
   "language": "python",
   "name": "python3"
  },
  "language_info": {
   "codemirror_mode": {
    "name": "ipython",
    "version": 3
   },
   "file_extension": ".py",
   "mimetype": "text/x-python",
   "name": "python",
   "nbconvert_exporter": "python",
   "pygments_lexer": "ipython3",
   "version": "3.8.8"
  },
  "toc": {
   "base_numbering": 1,
   "nav_menu": {},
   "number_sections": false,
   "sideBar": true,
   "skip_h1_title": false,
   "title_cell": "Table of Contents",
   "title_sidebar": "Contents",
   "toc_cell": false,
   "toc_position": {},
   "toc_section_display": true,
   "toc_window_display": false
  },
  "varInspector": {
   "cols": {
    "lenName": 16,
    "lenType": 16,
    "lenVar": 40
   },
   "kernels_config": {
    "python": {
     "delete_cmd_postfix": "",
     "delete_cmd_prefix": "del ",
     "library": "var_list.py",
     "varRefreshCmd": "print(var_dic_list())"
    },
    "r": {
     "delete_cmd_postfix": ") ",
     "delete_cmd_prefix": "rm(",
     "library": "var_list.r",
     "varRefreshCmd": "cat(var_dic_list()) "
    }
   },
   "position": {
    "height": "535.852px",
    "left": "1373px",
    "right": "20px",
    "top": "121px",
    "width": "334px"
   },
   "types_to_exclude": [
    "module",
    "function",
    "builtin_function_or_method",
    "instance",
    "_Feature"
   ],
   "window_display": false
  }
 },
 "nbformat": 4,
 "nbformat_minor": 5
}
