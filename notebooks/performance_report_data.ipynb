{
 "cells": [
  {
   "cell_type": "code",
   "execution_count": 1,
   "id": "d97b52af",
   "metadata": {
    "ExecuteTime": {
     "end_time": "2022-12-19T21:02:23.611839Z",
     "start_time": "2022-12-19T20:33:38.416697Z"
    }
   },
   "outputs": [
    {
     "name": "stderr",
     "output_type": "stream",
     "text": [
      "\r",
      "  0%|                                                    | 0/12 [00:00<?, ?it/s]"
     ]
    },
    {
     "name": "stdout",
     "output_type": "stream",
     "text": [
      "$$$$$$$$$$$$$$$$$$$$$$$$$$$$$$$$$$$$$$$$$$$$$$$$$$$$$$$$$$$$$$$$$$$$$$$$$$$$$$$$$$$$$\n",
      "Train2009-12-01 To 2019-12-01_Validation2019-12-01 To 2020-01-01_Test2020-01-01 To 2020-02-01\n",
      "RAM Used (GB): 5.662326784\n",
      "X_train shape: (2488, 30, 430, 152)\n",
      "y_train shape: (2488, 15, 430, 1)\n",
      "X_valid shape: (21, 30, 430, 152)\n",
      "y_valid shape: (21, 15, 430, 1)\n",
      "RAM Used (GB): 6.396690432\n"
     ]
    },
    {
     "name": "stderr",
     "output_type": "stream",
     "text": [
      "\r",
      "  8%|███▌                                       | 1/12 [02:18<25:20, 138.19s/it]"
     ]
    },
    {
     "name": "stdout",
     "output_type": "stream",
     "text": [
      "Top 3 lines\n",
      "#1: internals/managers.py:1785: 1349672.8 KiB\n",
      "    result = np.empty(self.shape, dtype=dtype)\n",
      "#2: internals/blocks.py:549: 1332483.1 KiB\n",
      "    values = values.copy()\n",
      "#3: internals/blocks.py:1912: 77369.8 KiB\n",
      "    return self.values.astype(_dtype_obj)\n",
      "2751 other: 118604.3 KiB\n",
      "Total allocated size: 2878130.0 KiB\n",
      "RAM Used (GB): 6.80861696\n",
      "$$$$$$$$$$$$$$$$$$$$$$$$$$$$$$$$$$$$$$$$$$$$$$$$$$$$$$$$$$$$$$$$$$$$$$$$$$$$$$$$$$$$$\n",
      "Train2010-01-01 To 2020-01-01_Validation2020-01-01 To 2020-02-01_Test2020-02-01 To 2020-03-01\n",
      "RAM Used (GB): 6.808633344\n",
      "X_train shape: (2487, 30, 430, 152)\n",
      "y_train shape: (2487, 15, 430, 1)\n",
      "X_valid shape: (21, 30, 430, 152)\n",
      "y_valid shape: (21, 15, 430, 1)\n",
      "RAM Used (GB): 5.95787776\n"
     ]
    },
    {
     "name": "stderr",
     "output_type": "stream",
     "text": [
      "\r",
      " 17%|███████▏                                   | 2/12 [04:39<23:17, 139.77s/it]"
     ]
    },
    {
     "name": "stdout",
     "output_type": "stream",
     "text": [
      "Top 3 lines\n",
      "#1: internals/managers.py:1785: 1348090.5 KiB\n",
      "    result = np.empty(self.shape, dtype=dtype)\n",
      "#2: internals/blocks.py:549: 1330921.0 KiB\n",
      "    values = values.copy()\n",
      "#3: internals/blocks.py:1912: 77279.1 KiB\n",
      "    return self.values.astype(_dtype_obj)\n",
      "2854 other: 119781.3 KiB\n",
      "Total allocated size: 2876071.8 KiB\n",
      "RAM Used (GB): 6.3320064\n",
      "$$$$$$$$$$$$$$$$$$$$$$$$$$$$$$$$$$$$$$$$$$$$$$$$$$$$$$$$$$$$$$$$$$$$$$$$$$$$$$$$$$$$$\n",
      "Train2010-02-01 To 2020-02-01_Validation2020-02-01 To 2020-03-01_Test2020-03-01 To 2020-04-01\n",
      "RAM Used (GB): 6.33233408\n",
      "X_train shape: (2489, 30, 431, 152)\n",
      "y_train shape: (2489, 15, 431, 1)\n",
      "X_valid shape: (19, 30, 431, 152)\n",
      "y_valid shape: (19, 15, 431, 1)\n",
      "RAM Used (GB): 6.584385536\n"
     ]
    },
    {
     "name": "stderr",
     "output_type": "stream",
     "text": [
      "\r",
      " 25%|██████████▊                                | 3/12 [07:00<21:03, 140.37s/it]"
     ]
    },
    {
     "name": "stdout",
     "output_type": "stream",
     "text": [
      "Top 3 lines\n",
      "#1: internals/managers.py:1785: 1352811.5 KiB\n",
      "    result = np.empty(self.shape, dtype=dtype)\n",
      "#2: internals/blocks.py:549: 1335581.9 KiB\n",
      "    values = values.copy()\n",
      "#3: internals/blocks.py:1912: 77549.7 KiB\n",
      "    return self.values.astype(_dtype_obj)\n",
      "2864 other: 121048.3 KiB\n",
      "Total allocated size: 2886991.4 KiB\n",
      "RAM Used (GB): 6.815694848\n",
      "$$$$$$$$$$$$$$$$$$$$$$$$$$$$$$$$$$$$$$$$$$$$$$$$$$$$$$$$$$$$$$$$$$$$$$$$$$$$$$$$$$$$$\n",
      "Train2010-03-01 To 2020-03-01_Validation2020-03-01 To 2020-04-01_Test2020-04-01 To 2020-05-01\n",
      "RAM Used (GB): 6.816055296\n",
      "X_train shape: (2489, 30, 432, 152)\n",
      "y_train shape: (2489, 15, 432, 1)\n",
      "X_valid shape: (22, 30, 432, 152)\n",
      "y_valid shape: (22, 15, 432, 1)\n",
      "RAM Used (GB): 6.470172672\n"
     ]
    },
    {
     "name": "stderr",
     "output_type": "stream",
     "text": [
      "\r",
      " 33%|██████████████▎                            | 4/12 [09:23<18:52, 141.60s/it]"
     ]
    },
    {
     "name": "stdout",
     "output_type": "stream",
     "text": [
      "Top 3 lines\n",
      "#1: internals/managers.py:1785: 1357010.1 KiB\n",
      "    result = np.empty(self.shape, dtype=dtype)\n",
      "#2: internals/blocks.py:549: 1339726.9 KiB\n",
      "    values = values.copy()\n",
      "#3: internals/blocks.py:1912: 77790.4 KiB\n",
      "    return self.values.astype(_dtype_obj)\n",
      "2902 other: 122334.0 KiB\n",
      "Total allocated size: 2896861.4 KiB\n",
      "RAM Used (GB): 6.766329856\n",
      "$$$$$$$$$$$$$$$$$$$$$$$$$$$$$$$$$$$$$$$$$$$$$$$$$$$$$$$$$$$$$$$$$$$$$$$$$$$$$$$$$$$$$\n",
      "Train2010-04-01 To 2020-04-01_Validation2020-04-01 To 2020-05-01_Test2020-05-01 To 2020-06-01\n",
      "RAM Used (GB): 6.766657536\n",
      "X_train shape: (2488, 30, 432, 152)\n",
      "y_train shape: (2488, 15, 432, 1)\n",
      "X_valid shape: (21, 30, 432, 152)\n",
      "y_valid shape: (21, 15, 432, 1)\n",
      "RAM Used (GB): 6.578307072\n"
     ]
    },
    {
     "name": "stderr",
     "output_type": "stream",
     "text": [
      "\r",
      " 42%|█████████████████▉                         | 5/12 [11:46<16:33, 141.90s/it]"
     ]
    },
    {
     "name": "stdout",
     "output_type": "stream",
     "text": [
      "Top 3 lines\n",
      "#1: internals/managers.py:1785: 1355420.4 KiB\n",
      "    result = np.empty(self.shape, dtype=dtype)\n",
      "#2: internals/blocks.py:549: 1338157.6 KiB\n",
      "    values = values.copy()\n",
      "#3: internals/blocks.py:1912: 77699.2 KiB\n",
      "    return self.values.astype(_dtype_obj)\n",
      "2910 other: 122606.4 KiB\n",
      "Total allocated size: 2893883.6 KiB\n",
      "RAM Used (GB): 6.75487744\n",
      "$$$$$$$$$$$$$$$$$$$$$$$$$$$$$$$$$$$$$$$$$$$$$$$$$$$$$$$$$$$$$$$$$$$$$$$$$$$$$$$$$$$$$\n",
      "Train2010-05-01 To 2020-05-01_Validation2020-05-01 To 2020-06-01_Test2020-06-01 To 2020-07-01\n",
      "RAM Used (GB): 6.75504128\n",
      "X_train shape: (2488, 30, 433, 152)\n",
      "y_train shape: (2488, 15, 433, 1)\n",
      "X_valid shape: (20, 30, 433, 152)\n",
      "y_valid shape: (20, 15, 433, 1)\n",
      "RAM Used (GB): 5.826854912\n"
     ]
    },
    {
     "name": "stderr",
     "output_type": "stream",
     "text": [
      "\r",
      " 50%|█████████████████████▌                     | 6/12 [14:09<14:13, 142.33s/it]"
     ]
    },
    {
     "name": "stdout",
     "output_type": "stream",
     "text": [
      "Top 3 lines\n",
      "#1: internals/managers.py:1785: 1359089.1 KiB\n",
      "    result = np.empty(self.shape, dtype=dtype)\n",
      "#2: internals/blocks.py:549: 1341779.5 KiB\n",
      "    values = values.copy()\n",
      "#3: internals/blocks.py:1912: 77909.6 KiB\n",
      "    return self.values.astype(_dtype_obj)\n",
      "2930 other: 123731.0 KiB\n",
      "Total allocated size: 2902509.2 KiB\n",
      "RAM Used (GB): 6.227296256\n",
      "$$$$$$$$$$$$$$$$$$$$$$$$$$$$$$$$$$$$$$$$$$$$$$$$$$$$$$$$$$$$$$$$$$$$$$$$$$$$$$$$$$$$$\n",
      "Train2010-06-01 To 2020-06-01_Validation2020-06-01 To 2020-07-01_Test2020-07-01 To 2020-08-01\n",
      "RAM Used (GB): 6.227296256\n",
      "X_train shape: (2488, 30, 433, 152)\n",
      "y_train shape: (2488, 15, 433, 1)\n",
      "X_valid shape: (22, 30, 433, 152)\n",
      "y_valid shape: (22, 15, 433, 1)\n",
      "RAM Used (GB): 5.896011776\n"
     ]
    },
    {
     "name": "stderr",
     "output_type": "stream",
     "text": [
      "\r",
      " 58%|█████████████████████████                  | 7/12 [16:32<11:53, 142.80s/it]"
     ]
    },
    {
     "name": "stdout",
     "output_type": "stream",
     "text": [
      "Top 3 lines\n",
      "#1: internals/managers.py:1785: 1360151.3 KiB\n",
      "    result = np.empty(self.shape, dtype=dtype)\n",
      "#2: internals/blocks.py:549: 1342828.2 KiB\n",
      "    values = values.copy()\n",
      "#3: internals/blocks.py:1912: 77970.4 KiB\n",
      "    return self.values.astype(_dtype_obj)\n",
      "2951 other: 124821.4 KiB\n",
      "Total allocated size: 2905771.3 KiB\n",
      "RAM Used (GB): 6.178521088\n",
      "$$$$$$$$$$$$$$$$$$$$$$$$$$$$$$$$$$$$$$$$$$$$$$$$$$$$$$$$$$$$$$$$$$$$$$$$$$$$$$$$$$$$$\n",
      "Train2010-07-01 To 2020-07-01_Validation2020-07-01 To 2020-08-01_Test2020-08-01 To 2020-09-01\n",
      "RAM Used (GB): 6.178553856\n",
      "X_train shape: (2488, 30, 435, 152)\n",
      "y_train shape: (2488, 15, 435, 1)\n",
      "X_valid shape: (22, 30, 435, 152)\n",
      "y_valid shape: (22, 15, 435, 1)\n",
      "RAM Used (GB): 5.98532096\n"
     ]
    },
    {
     "name": "stderr",
     "output_type": "stream",
     "text": [
      "\r",
      " 67%|████████████████████████████▋              | 8/12 [18:58<09:34, 143.51s/it]"
     ]
    },
    {
     "name": "stdout",
     "output_type": "stream",
     "text": [
      "Top 3 lines\n",
      "#1: internals/managers.py:1785: 1365900.2 KiB\n",
      "    result = np.empty(self.shape, dtype=dtype)\n",
      "#2: internals/blocks.py:549: 1348503.8 KiB\n",
      "    values = values.copy()\n",
      "#3: internals/blocks.py:1912: 78300.0 KiB\n",
      "    return self.values.astype(_dtype_obj)\n",
      "2957 other: 121499.3 KiB\n",
      "Total allocated size: 2914203.3 KiB\n",
      "RAM Used (GB): 6.239387648\n",
      "$$$$$$$$$$$$$$$$$$$$$$$$$$$$$$$$$$$$$$$$$$$$$$$$$$$$$$$$$$$$$$$$$$$$$$$$$$$$$$$$$$$$$\n",
      "Train2010-08-01 To 2020-08-01_Validation2020-08-01 To 2020-09-01_Test2020-09-01 To 2020-10-01\n",
      "RAM Used (GB): 6.239715328\n",
      "X_train shape: (2489, 30, 435, 152)\n",
      "y_train shape: (2489, 15, 435, 1)\n",
      "X_valid shape: (21, 30, 435, 152)\n",
      "y_valid shape: (21, 15, 435, 1)\n",
      "RAM Used (GB): 5.827919872\n"
     ]
    },
    {
     "name": "stderr",
     "output_type": "stream",
     "text": [
      "\r",
      " 75%|████████████████████████████████▎          | 9/12 [21:22<07:11, 143.94s/it]"
     ]
    },
    {
     "name": "stdout",
     "output_type": "stream",
     "text": [
      "Top 3 lines\n",
      "#1: internals/managers.py:1785: 1365900.2 KiB\n",
      "    result = np.empty(self.shape, dtype=dtype)\n",
      "#2: internals/blocks.py:549: 1348503.8 KiB\n",
      "    values = values.copy()\n",
      "#3: internals/blocks.py:1912: 78300.0 KiB\n",
      "    return self.values.astype(_dtype_obj)\n",
      "2959 other: 121906.8 KiB\n",
      "Total allocated size: 2914610.9 KiB\n",
      "RAM Used (GB): 6.492717056\n",
      "$$$$$$$$$$$$$$$$$$$$$$$$$$$$$$$$$$$$$$$$$$$$$$$$$$$$$$$$$$$$$$$$$$$$$$$$$$$$$$$$$$$$$\n",
      "Train2010-09-01 To 2020-09-01_Validation2020-09-01 To 2020-10-01_Test2020-10-01 To 2020-11-01\n",
      "RAM Used (GB): 6.492880896\n",
      "X_train shape: (2488, 30, 436, 152)\n",
      "y_train shape: (2488, 15, 436, 1)\n",
      "X_valid shape: (21, 30, 436, 152)\n",
      "y_valid shape: (21, 15, 436, 1)\n",
      "RAM Used (GB): 5.899894784\n"
     ]
    },
    {
     "name": "stderr",
     "output_type": "stream",
     "text": [
      "\r",
      " 83%|███████████████████████████████████       | 10/12 [23:49<04:49, 144.88s/it]"
     ]
    },
    {
     "name": "stdout",
     "output_type": "stream",
     "text": [
      "Top 3 lines\n",
      "#1: internals/managers.py:1785: 1369040.2 KiB\n",
      "    result = np.empty(self.shape, dtype=dtype)\n",
      "#2: internals/blocks.py:549: 1351603.8 KiB\n",
      "    values = values.copy()\n",
      "#3: internals/blocks.py:1912: 78480.0 KiB\n",
      "    return self.values.astype(_dtype_obj)\n",
      "2969 other: 123147.7 KiB\n",
      "Total allocated size: 2922271.8 KiB\n",
      "RAM Used (GB): 6.130040832\n",
      "$$$$$$$$$$$$$$$$$$$$$$$$$$$$$$$$$$$$$$$$$$$$$$$$$$$$$$$$$$$$$$$$$$$$$$$$$$$$$$$$$$$$$\n",
      "Train2010-10-01 To 2020-10-01_Validation2020-10-01 To 2020-11-01_Test2020-11-01 To 2020-12-01\n",
      "RAM Used (GB): 6.130352128\n",
      "X_train shape: (2488, 30, 436, 152)\n",
      "y_train shape: (2488, 15, 436, 1)\n",
      "X_valid shape: (22, 30, 436, 152)\n",
      "y_valid shape: (22, 15, 436, 1)\n",
      "RAM Used (GB): 5.764431872\n"
     ]
    },
    {
     "name": "stderr",
     "output_type": "stream",
     "text": [
      "\r",
      " 92%|██████████████████████████████████████▌   | 11/12 [26:15<02:25, 145.19s/it]"
     ]
    },
    {
     "name": "stdout",
     "output_type": "stream",
     "text": [
      "Top 3 lines\n",
      "#1: internals/managers.py:1785: 1368505.4 KiB\n",
      "    result = np.empty(self.shape, dtype=dtype)\n",
      "#2: internals/blocks.py:549: 1351075.9 KiB\n",
      "    values = values.copy()\n",
      "#3: internals/blocks.py:1912: 78449.3 KiB\n",
      "    return self.values.astype(_dtype_obj)\n",
      "2980 other: 123991.9 KiB\n",
      "Total allocated size: 2922022.5 KiB\n",
      "RAM Used (GB): 5.956042752\n",
      "$$$$$$$$$$$$$$$$$$$$$$$$$$$$$$$$$$$$$$$$$$$$$$$$$$$$$$$$$$$$$$$$$$$$$$$$$$$$$$$$$$$$$\n",
      "Train2010-11-01 To 2020-11-01_Validation2020-11-01 To 2020-12-01_Test2020-12-01 To 2021-01-01\n",
      "RAM Used (GB): 5.956206592\n",
      "X_train shape: (2489, 30, 436, 152)\n",
      "y_train shape: (2489, 15, 436, 1)\n",
      "X_valid shape: (20, 30, 436, 152)\n",
      "y_valid shape: (20, 15, 436, 1)\n",
      "RAM Used (GB): 6.005456896\n"
     ]
    },
    {
     "name": "stderr",
     "output_type": "stream",
     "text": [
      "100%|██████████████████████████████████████████| 12/12 [28:42<00:00, 143.54s/it]"
     ]
    },
    {
     "name": "stdout",
     "output_type": "stream",
     "text": [
      "Top 3 lines\n",
      "#1: internals/managers.py:1785: 1369040.2 KiB\n",
      "    result = np.empty(self.shape, dtype=dtype)\n",
      "#2: internals/blocks.py:549: 1351603.8 KiB\n",
      "    values = values.copy()\n",
      "#3: internals/blocks.py:1912: 78480.0 KiB\n",
      "    return self.values.astype(_dtype_obj)\n",
      "2981 other: 125061.0 KiB\n",
      "Total allocated size: 2924185.0 KiB\n",
      "RAM Used (GB): 6.12728832\n"
     ]
    },
    {
     "name": "stderr",
     "output_type": "stream",
     "text": [
      "\n"
     ]
    }
   ],
   "source": [
    "import sys\n",
    "sys.path.append('/Users/keyang/OneDrive/capstone/Deliverable/project/Stlearn')\n",
    "\n",
    "import numpy as np\n",
    "from Stlearn.Factory import *\n",
    "from Stlearn.Portfolio import *\n",
    "from Data.DataStructure import DateGenerator, Date\n",
    "from tqdm import tqdm\n",
    "import psutil\n",
    "import tracemalloc\n",
    "\n",
    "train_start_date_s = '2009-12-01'\n",
    "val_start_date_s = '2019-12-01'\n",
    "test_start_date_s = '2020-01-01'\n",
    "test_end_date_s = '2020-02-01'\n",
    "\n",
    "freq = 'month'\n",
    "offset = 1\n",
    "limit = 12\n",
    "\n",
    "train_start_date_generator = DateGenerator(Date.create_from_str(train_start_date_s), freq, offset, limit)\n",
    "val_start_date_generator = DateGenerator(Date.create_from_str(val_start_date_s), freq, offset, limit)\n",
    "test_start_date_generator = DateGenerator(Date.create_from_str(test_start_date_s), freq, offset, limit)\n",
    "test_end_date_generator = DateGenerator(Date.create_from_str(test_end_date_s), freq, offset, limit)\n",
    "\n",
    "tracemalloc.start()\n",
    "\n",
    "for i in tqdm(range(limit)):\n",
    "    \n",
    "    train_start_date = train_start_date_generator.next()\n",
    "    val_start_date = val_start_date_generator.next()\n",
    "    test_start_date = test_start_date_generator.next()\n",
    "    test_end_date = test_end_date_generator.next()\n",
    "    \n",
    "    lg = 'Train{} To {}_Validation{} To {}_Test{} To {}'.format(\n",
    "        str(train_start_date), str(val_start_date), \n",
    "        str(val_start_date), str(test_start_date),\n",
    "        str(test_start_date), str(test_end_date))\n",
    "    print('$$$$$$$$$$$$$$$$$$$$$$$$$$$$$$$$$$$$$$$$$$$$$$$$$$$$$$$$$$$$$$$$$$$$$$$$$$$$$$$$$$$$$')\n",
    "    print(lg)\n",
    "    print('RAM Used (GB):', psutil.virtual_memory()[3] / 1000000000)\n",
    "    \n",
    "    f = ConditionalVariationAutoEncoderFactory(str(train_start_date), str(val_start_date), \n",
    "                           str(test_start_date), str(test_end_date), Constant.WIN_SIZE, Constant.FORWARD_STEPS_SIZE, True)\n",
    "    data = f.create_data()\n",
    "    model = f.create_model()\n",
    "    #model.fit(data)\n",
    "\n",
    "    save_path = '/Users/keyang/Desktop/model_cache/{}/{}/test_data'.format(lg, model.name)\n",
    "    \n",
    "    np.savez(save_path, x=data.X_test, ids=data.ids_test)\n",
    "\n",
    "    print('RAM Used (GB):', psutil.virtual_memory()[3] / 1000000000)\n",
    "\n",
    "    snapshot = tracemalloc.take_snapshot()\n",
    "    display_top(snapshot)\n",
    "\n",
    "\n",
    "    print('RAM Used (GB):', psutil.virtual_memory()[3] / 1000000000)"
   ]
  }
 ],
 "metadata": {
  "kernelspec": {
   "display_name": "Python 3 (ipykernel)",
   "language": "python",
   "name": "python3"
  },
  "language_info": {
   "codemirror_mode": {
    "name": "ipython",
    "version": 3
   },
   "file_extension": ".py",
   "mimetype": "text/x-python",
   "name": "python",
   "nbconvert_exporter": "python",
   "pygments_lexer": "ipython3",
   "version": "3.8.13"
  },
  "varInspector": {
   "cols": {
    "lenName": 16,
    "lenType": 16,
    "lenVar": 40
   },
   "kernels_config": {
    "python": {
     "delete_cmd_postfix": "",
     "delete_cmd_prefix": "del ",
     "library": "var_list.py",
     "varRefreshCmd": "print(var_dic_list())"
    },
    "r": {
     "delete_cmd_postfix": ") ",
     "delete_cmd_prefix": "rm(",
     "library": "var_list.r",
     "varRefreshCmd": "cat(var_dic_list()) "
    }
   },
   "types_to_exclude": [
    "module",
    "function",
    "builtin_function_or_method",
    "instance",
    "_Feature"
   ],
   "window_display": false
  }
 },
 "nbformat": 4,
 "nbformat_minor": 5
}
