{
 "cells": [
  {
   "cell_type": "code",
   "execution_count": 1,
   "id": "52bf9594",
   "metadata": {
    "ExecuteTime": {
     "end_time": "2022-12-06T22:17:48.432230Z",
     "start_time": "2022-12-06T22:17:32.057169Z"
    },
    "scrolled": true
   },
   "outputs": [
    {
     "name": "stdout",
     "output_type": "stream",
     "text": [
      "X_train shape: (119, 30, 488, 152)\n",
      "y_train shape: (119, 15, 488, 1)\n",
      "X_valid shape: (21, 30, 488, 152)\n",
      "y_valid shape: (21, 15, 488, 1)\n"
     ]
    }
   ],
   "source": [
    "import sys\n",
    "sys.path.append('./Stlearn')\n",
    "from Stlearn.Factory import *\n",
    "from Stlearn.Portfolio import *\n",
    "from Stlearn.ProcessedData import *\n",
    "import Constant\n",
    "\n",
    "\n",
    "\n",
    "data = FourDimWinDataByDateByWinByStockByFeature('2019-06-01', '2020-01-01', '2020-02-01', '2020-03-01', 30, 15)\n",
    "X_train = data.X_train.generate_all()\n",
    "X_val = data.X_val.generate_all()\n",
    "X_test = data.X_test.generate_all()\n",
    "\n",
    "y_train = data.y_train.generate_all()\n",
    "y_val = data.y_val.generate_all()\n",
    "\n",
    "ids_test = data.ids_test"
   ]
  }
 ],
 "metadata": {
  "kernelspec": {
   "display_name": "Python 3 (ipykernel)",
   "language": "python",
   "name": "python3"
  },
  "language_info": {
   "codemirror_mode": {
    "name": "ipython",
    "version": 3
   },
   "file_extension": ".py",
   "mimetype": "text/x-python",
   "name": "python",
   "nbconvert_exporter": "python",
   "pygments_lexer": "ipython3",
   "version": "3.8.13"
  },
  "varInspector": {
   "cols": {
    "lenName": 16,
    "lenType": 16,
    "lenVar": 40
   },
   "kernels_config": {
    "python": {
     "delete_cmd_postfix": "",
     "delete_cmd_prefix": "del ",
     "library": "var_list.py",
     "varRefreshCmd": "print(var_dic_list())"
    },
    "r": {
     "delete_cmd_postfix": ") ",
     "delete_cmd_prefix": "rm(",
     "library": "var_list.r",
     "varRefreshCmd": "cat(var_dic_list()) "
    }
   },
   "position": {
    "height": "535.852px",
    "left": "1373px",
    "right": "20px",
    "top": "121px",
    "width": "334px"
   },
   "types_to_exclude": [
    "module",
    "function",
    "builtin_function_or_method",
    "instance",
    "_Feature"
   ],
   "window_display": false
  }
 },
 "nbformat": 4,
 "nbformat_minor": 5
}
