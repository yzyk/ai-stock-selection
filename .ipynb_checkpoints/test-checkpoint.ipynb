{
 "cells": [
  {
   "cell_type": "markdown",
   "id": "4e04971f",
   "metadata": {},
   "source": [
    "Before test, I first import all `Factory` modules from Stlearn library."
   ]
  },
  {
   "cell_type": "markdown",
   "id": "5e9fc7e2",
   "metadata": {},
   "source": [
    "For a typical machine learning task, all we need to do is to initialize the relevant `Factory` object, use it to create the relevant `Data` and `Model` object, finally train and evaulate the `Model` object with `Data` object."
   ]
  },
  {
   "cell_type": "markdown",
   "id": "6deb0b3f",
   "metadata": {},
   "source": [
    "During the initial development, I have provided several classical machine learning and deep learning models, which can be accessed from relevant `Factory` object. They are:\n",
    "* Linear Regression Model and its data\n",
    "* Random Forest Regressor Model and its data\n",
    "* AdaBoost Regressor Model and its data\n",
    "* Simple Neural Network Model and its data\n",
    "* CNN Model and its data\n",
    "* LSTM Model and its data"
   ]
  },
  {
   "cell_type": "code",
   "execution_count": 1,
   "id": "d875cbaf",
   "metadata": {
    "ExecuteTime": {
     "end_time": "2022-10-29T20:32:44.565711Z",
     "start_time": "2022-10-29T20:32:40.054684Z"
    }
   },
   "outputs": [],
   "source": [
    "import sys\n",
    "sys.path.append('./Stlearn')\n",
    "from Stlearn.Factory import *"
   ]
  },
  {
   "cell_type": "markdown",
   "id": "8d3b6e09",
   "metadata": {},
   "source": [
    "# Demo for AdaBoostRegressor"
   ]
  },
  {
   "cell_type": "code",
   "execution_count": 2,
   "id": "9918d6d0",
   "metadata": {
    "ExecuteTime": {
     "end_time": "2022-10-29T20:32:52.220548Z",
     "start_time": "2022-10-29T20:32:44.567712Z"
    }
   },
   "outputs": [
    {
     "name": "stdout",
     "output_type": "stream",
     "text": [
      "X_train shape: (245106, 151)\n",
      "y_train shape: (245106,)\n",
      "X_valid shape: (81692, 151)\n",
      "y_valid shape: (81692,)\n",
      "X_test shape: (81718, 151)\n",
      "y_test shape: (81718,)\n"
     ]
    }
   ],
   "source": [
    "df = AdaBoostRegressorFactory(0.1, 0.6, 0.2, 0.2)\n",
    "data = df.create_data()\n",
    "model = df.create_model()"
   ]
  },
  {
   "cell_type": "code",
   "execution_count": 3,
   "id": "028d8acf",
   "metadata": {
    "ExecuteTime": {
     "end_time": "2022-10-29T20:35:59.084556Z",
     "start_time": "2022-10-29T20:32:52.226550Z"
    }
   },
   "outputs": [],
   "source": [
    "model.fit(data)"
   ]
  },
  {
   "cell_type": "code",
   "execution_count": 4,
   "id": "0f3fdca0",
   "metadata": {
    "ExecuteTime": {
     "end_time": "2022-10-29T20:36:01.035549Z",
     "start_time": "2022-10-29T20:35:59.085551Z"
    }
   },
   "outputs": [
    {
     "name": "stdout",
     "output_type": "stream",
     "text": [
      "weighted_mean_squared_error: 0.03865\n"
     ]
    }
   ],
   "source": [
    "model.evaluate(data)"
   ]
  },
  {
   "cell_type": "markdown",
   "id": "7c8c9c7f",
   "metadata": {},
   "source": [
    "# Demo for LSTM"
   ]
  },
  {
   "cell_type": "code",
   "execution_count": 5,
   "id": "e8a93543",
   "metadata": {
    "ExecuteTime": {
     "end_time": "2022-10-29T20:36:12.018444Z",
     "start_time": "2022-10-29T20:36:01.037549Z"
    }
   },
   "outputs": [
    {
     "name": "stdout",
     "output_type": "stream",
     "text": [
      "X_train shape: (24217, 60, 151)\n",
      "y_train shape: (24217,)\n",
      "X_valid shape: (7873, 60, 151)\n",
      "y_valid shape: (7873,)\n",
      "X_test shape: (7877, 60, 151)\n",
      "y_test shape: (7877,)\n"
     ]
    }
   ],
   "source": [
    "lstmf = LSTMFactory(0.01, 0.6, 0.2, 0.2, 60)\n",
    "data = lstmf.create_data()\n",
    "model = lstmf.create_model()"
   ]
  },
  {
   "cell_type": "code",
   "execution_count": 6,
   "id": "83080728",
   "metadata": {
    "ExecuteTime": {
     "end_time": "2022-10-29T20:38:02.577772Z",
     "start_time": "2022-10-29T20:36:12.021444Z"
    }
   },
   "outputs": [
    {
     "name": "stdout",
     "output_type": "stream",
     "text": [
      "Epoch 1/10\n",
      "757/757 [==============================] - 12s 15ms/step - loss: 0.0225 - mean_squared_error: 0.0225 - weighted_mean_squared_error: 0.0225 - val_loss: 0.0085 - val_mean_squared_error: 0.0085 - val_weighted_mean_squared_error: 0.0085\n",
      "Epoch 2/10\n",
      "757/757 [==============================] - 11s 14ms/step - loss: 0.0152 - mean_squared_error: 0.0152 - weighted_mean_squared_error: 0.0152 - val_loss: 0.0038 - val_mean_squared_error: 0.0038 - val_weighted_mean_squared_error: 0.0038\n",
      "Epoch 3/10\n",
      "757/757 [==============================] - 10s 14ms/step - loss: 0.0139 - mean_squared_error: 0.0139 - weighted_mean_squared_error: 0.0139 - val_loss: 0.0130 - val_mean_squared_error: 0.0130 - val_weighted_mean_squared_error: 0.0130\n",
      "Epoch 4/10\n",
      "757/757 [==============================] - 11s 14ms/step - loss: 0.0133 - mean_squared_error: 0.0133 - weighted_mean_squared_error: 0.0133 - val_loss: 0.0044 - val_mean_squared_error: 0.0044 - val_weighted_mean_squared_error: 0.0044\n",
      "Epoch 5/10\n",
      "757/757 [==============================] - 11s 14ms/step - loss: 0.0130 - mean_squared_error: 0.0130 - weighted_mean_squared_error: 0.0130 - val_loss: 0.0015 - val_mean_squared_error: 0.0015 - val_weighted_mean_squared_error: 0.0015\n",
      "Epoch 6/10\n",
      "757/757 [==============================] - 10s 14ms/step - loss: 0.0126 - mean_squared_error: 0.0126 - weighted_mean_squared_error: 0.0126 - val_loss: 0.0036 - val_mean_squared_error: 0.0036 - val_weighted_mean_squared_error: 0.0036\n",
      "Epoch 7/10\n",
      "757/757 [==============================] - 10s 14ms/step - loss: 0.0127 - mean_squared_error: 0.0127 - weighted_mean_squared_error: 0.0127 - val_loss: 0.0085 - val_mean_squared_error: 0.0085 - val_weighted_mean_squared_error: 0.0085\n",
      "Epoch 8/10\n",
      "757/757 [==============================] - 11s 14ms/step - loss: 0.0125 - mean_squared_error: 0.0125 - weighted_mean_squared_error: 0.0125 - val_loss: 0.0020 - val_mean_squared_error: 0.0020 - val_weighted_mean_squared_error: 0.0020\n",
      "Epoch 9/10\n",
      "757/757 [==============================] - 10s 14ms/step - loss: 0.0124 - mean_squared_error: 0.0124 - weighted_mean_squared_error: 0.0124 - val_loss: 0.0031 - val_mean_squared_error: 0.0031 - val_weighted_mean_squared_error: 0.0031\n",
      "Epoch 10/10\n",
      "757/757 [==============================] - 11s 15ms/step - loss: 0.0126 - mean_squared_error: 0.0126 - weighted_mean_squared_error: 0.0126 - val_loss: 0.0024 - val_mean_squared_error: 0.0024 - val_weighted_mean_squared_error: 0.0024\n"
     ]
    }
   ],
   "source": [
    "model.fit(data)"
   ]
  },
  {
   "cell_type": "code",
   "execution_count": 7,
   "id": "d79c070f",
   "metadata": {
    "ExecuteTime": {
     "end_time": "2022-10-29T20:38:03.951549Z",
     "start_time": "2022-10-29T20:38:02.579774Z"
    }
   },
   "outputs": [
    {
     "name": "stdout",
     "output_type": "stream",
     "text": [
      "247/247 [==============================] - 1s 5ms/step - loss: 0.0031 - mean_squared_error: 0.0031 - weighted_mean_squared_error: 0.0031\n",
      "LSTM: Test loss: 0.00306\n"
     ]
    }
   ],
   "source": [
    "model.evaluate(data)"
   ]
  },
  {
   "cell_type": "markdown",
   "id": "95d4abf7",
   "metadata": {},
   "source": [
    "# Demo for Self Defined Model"
   ]
  },
  {
   "cell_type": "markdown",
   "id": "083f340e",
   "metadata": {},
   "source": [
    "Below I demo how to use the library to create an advanced neural network mannually. It is as easy as:\n",
    "* Derive a subclass from `DlModel`, ovrride its `_create_model()` function to define model\n",
    "* Derive a subclass from `DlFactory`, override its `_load()` function to define data and model that are going to be returned\n",
    "* Perform standard client codes to perform deep learning tasks"
   ]
  },
  {
   "cell_type": "code",
   "execution_count": 13,
   "id": "d7cd5ae2",
   "metadata": {
    "ExecuteTime": {
     "end_time": "2022-10-29T20:45:48.964670Z",
     "start_time": "2022-10-29T20:45:34.977422Z"
    }
   },
   "outputs": [
    {
     "name": "stdout",
     "output_type": "stream",
     "text": [
      "X_train shape: (24217, 60, 151)\n",
      "y_train shape: (24217,)\n",
      "X_valid shape: (7873, 60, 151)\n",
      "y_valid shape: (7873,)\n",
      "X_test shape: (7877, 60, 151)\n",
      "y_test shape: (7877,)\n"
     ]
    }
   ],
   "source": [
    "class CNNLSTMModel(DlModel):\n",
    "    def _create_model(self):\n",
    "        self._model = tf.keras.Sequential([\n",
    "            tf.keras.layers.Conv1D(25, padding='same', kernel_size=(1,), \n",
    "                               activation='relu', input_shape=self._input_shape),\n",
    "            tf.keras.layers.Conv1D(50, padding='same', kernel_size=(1,), \n",
    "                               activation='relu'),\n",
    "            tf.keras.layers.Dropout(0.5),\n",
    "            tf.keras.layers.LSTM(50),\n",
    "            tf.keras.layers.Dense(1)\n",
    "        ])\n",
    "    pass\n",
    "\n",
    "class CNNLSTMFactory(DlFactory):\n",
    "    def _load(self):\n",
    "        self._data = DlData(capacity=self._capacity, train_portion=self._train_portion, val_portion=self._val_portion,\n",
    "                            test_portion=self._test_portion, data_window_size=self._data_window_size)\n",
    "        self._model = CNNLSTMModel('CNNLSTM', self._data.get_shape())\n",
    "    pass\n",
    "\n",
    "cnnlstmf = CNNLSTMFactory(0.01, 0.6, 0.2, 0.2, 60)\n",
    "data = cnnlstmf.create_data()\n",
    "model = cnnlstmf.create_model()"
   ]
  },
  {
   "cell_type": "code",
   "execution_count": 14,
   "id": "208c97f3",
   "metadata": {
    "ExecuteTime": {
     "end_time": "2022-10-29T20:48:26.175883Z",
     "start_time": "2022-10-29T20:45:57.383132Z"
    }
   },
   "outputs": [
    {
     "name": "stdout",
     "output_type": "stream",
     "text": [
      "Epoch 1/10\n",
      "757/757 [==============================] - 14s 18ms/step - loss: 0.0349 - mean_squared_error: 0.0349 - weighted_mean_squared_error: 0.0349 - val_loss: 6.2118e-04 - val_mean_squared_error: 6.2118e-04 - val_weighted_mean_squared_error: 6.2118e-04\n",
      "Epoch 2/10\n",
      "757/757 [==============================] - 13s 17ms/step - loss: 4.5254e-04 - mean_squared_error: 4.5254e-04 - weighted_mean_squared_error: 4.5254e-04 - val_loss: 6.2771e-04 - val_mean_squared_error: 6.2771e-04 - val_weighted_mean_squared_error: 6.2771e-04\n",
      "Epoch 3/10\n",
      "757/757 [==============================] - 14s 18ms/step - loss: 4.5410e-04 - mean_squared_error: 4.5410e-04 - weighted_mean_squared_error: 4.5410e-04 - val_loss: 6.5093e-04 - val_mean_squared_error: 6.5093e-04 - val_weighted_mean_squared_error: 6.5093e-04\n",
      "Epoch 4/10\n",
      "757/757 [==============================] - 15s 19ms/step - loss: 4.5416e-04 - mean_squared_error: 4.5416e-04 - weighted_mean_squared_error: 4.5416e-04 - val_loss: 6.5455e-04 - val_mean_squared_error: 6.5455e-04 - val_weighted_mean_squared_error: 6.5455e-04\n",
      "Epoch 5/10\n",
      "757/757 [==============================] - 15s 20ms/step - loss: 4.5389e-04 - mean_squared_error: 4.5389e-04 - weighted_mean_squared_error: 4.5389e-04 - val_loss: 6.3111e-04 - val_mean_squared_error: 6.3111e-04 - val_weighted_mean_squared_error: 6.3111e-04\n",
      "Epoch 6/10\n",
      "757/757 [==============================] - 15s 20ms/step - loss: 4.5069e-04 - mean_squared_error: 4.5069e-04 - weighted_mean_squared_error: 4.5069e-04 - val_loss: 6.3630e-04 - val_mean_squared_error: 6.3630e-04 - val_weighted_mean_squared_error: 6.3630e-04\n",
      "Epoch 7/10\n",
      "757/757 [==============================] - 15s 20ms/step - loss: 4.5331e-04 - mean_squared_error: 4.5331e-04 - weighted_mean_squared_error: 4.5331e-04 - val_loss: 6.5857e-04 - val_mean_squared_error: 6.5857e-04 - val_weighted_mean_squared_error: 6.5857e-04\n",
      "Epoch 8/10\n",
      "757/757 [==============================] - 16s 21ms/step - loss: 4.5148e-04 - mean_squared_error: 4.5148e-04 - weighted_mean_squared_error: 4.5148e-04 - val_loss: 6.3897e-04 - val_mean_squared_error: 6.3897e-04 - val_weighted_mean_squared_error: 6.3897e-04\n",
      "Epoch 9/10\n",
      "757/757 [==============================] - 14s 19ms/step - loss: 4.5113e-04 - mean_squared_error: 4.5113e-04 - weighted_mean_squared_error: 4.5113e-04 - val_loss: 6.2465e-04 - val_mean_squared_error: 6.2465e-04 - val_weighted_mean_squared_error: 6.2465e-04\n",
      "Epoch 10/10\n",
      "757/757 [==============================] - 14s 19ms/step - loss: 4.5147e-04 - mean_squared_error: 4.5147e-04 - weighted_mean_squared_error: 4.5147e-04 - val_loss: 6.7425e-04 - val_mean_squared_error: 6.7425e-04 - val_weighted_mean_squared_error: 6.7425e-04\n"
     ]
    }
   ],
   "source": [
    "model.fit(data)"
   ]
  },
  {
   "cell_type": "code",
   "execution_count": 15,
   "id": "44596b1b",
   "metadata": {
    "ExecuteTime": {
     "end_time": "2022-10-29T20:48:28.095188Z",
     "start_time": "2022-10-29T20:48:26.348735Z"
    }
   },
   "outputs": [
    {
     "name": "stdout",
     "output_type": "stream",
     "text": [
      "247/247 [==============================] - 2s 6ms/step - loss: 8.3934e-04 - mean_squared_error: 8.3934e-04 - weighted_mean_squared_error: 8.3934e-04\n",
      "CNNLSTM: Test loss: 0.00084\n"
     ]
    }
   ],
   "source": [
    "model.evaluate(data)"
   ]
  }
 ],
 "metadata": {
  "kernelspec": {
   "display_name": "Python 3 (ipykernel)",
   "language": "python",
   "name": "python3"
  },
  "language_info": {
   "codemirror_mode": {
    "name": "ipython",
    "version": 3
   },
   "file_extension": ".py",
   "mimetype": "text/x-python",
   "name": "python",
   "nbconvert_exporter": "python",
   "pygments_lexer": "ipython3",
   "version": "3.8.8"
  },
  "toc": {
   "base_numbering": 1,
   "nav_menu": {},
   "number_sections": false,
   "sideBar": true,
   "skip_h1_title": false,
   "title_cell": "Table of Contents",
   "title_sidebar": "Contents",
   "toc_cell": false,
   "toc_position": {},
   "toc_section_display": true,
   "toc_window_display": false
  },
  "varInspector": {
   "cols": {
    "lenName": 16,
    "lenType": 16,
    "lenVar": 40
   },
   "kernels_config": {
    "python": {
     "delete_cmd_postfix": "",
     "delete_cmd_prefix": "del ",
     "library": "var_list.py",
     "varRefreshCmd": "print(var_dic_list())"
    },
    "r": {
     "delete_cmd_postfix": ") ",
     "delete_cmd_prefix": "rm(",
     "library": "var_list.r",
     "varRefreshCmd": "cat(var_dic_list()) "
    }
   },
   "types_to_exclude": [
    "module",
    "function",
    "builtin_function_or_method",
    "instance",
    "_Feature"
   ],
   "window_display": false
  }
 },
 "nbformat": 4,
 "nbformat_minor": 5
}
