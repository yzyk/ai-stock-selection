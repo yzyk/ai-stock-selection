{
 "cells": [
  {
   "cell_type": "code",
   "execution_count": 1,
   "id": "752730be",
   "metadata": {
    "ExecuteTime": {
     "end_time": "2022-11-16T16:56:47.422238Z",
     "start_time": "2022-11-16T16:56:41.866385Z"
    }
   },
   "outputs": [],
   "source": [
    "import sys\n",
    "sys.path.append('./Stlearn')\n",
    "from Stlearn.Factory import *\n",
    "from Stlearn.Portfolio import *\n",
    "from Stlearn.Data import *"
   ]
  },
  {
   "cell_type": "code",
   "execution_count": null,
   "id": "27fd00fd",
   "metadata": {
    "ExecuteTime": {
     "start_time": "2022-11-16T16:56:41.865Z"
    },
    "scrolled": false
   },
   "outputs": [
    {
     "name": "stdout",
     "output_type": "stream",
     "text": [
      "X_train shape: (21856, 60, 152)\n",
      "y_train shape: (21856,)\n",
      "X_valid shape: (10958, 60, 152)\n",
      "y_valid shape: (10958,)\n",
      "X_test shape: (10975, 60, 152)\n",
      "y_test shape: (10975,)\n",
      "Epoch 1/10\n",
      "WARNING:tensorflow:AutoGraph could not transform <bound method LSTMAutoRegressor.call of <Prototype.LSTMAutoRegressor object at 0x000001CF92F35D60>> and will run it as-is.\n",
      "Please report this to the TensorFlow team. When filing the bug, set the verbosity to 10 (on Linux, `export AUTOGRAPH_VERBOSITY=10`) and attach the full output.\n",
      "Cause: module 'gast' has no attribute 'Index'\n",
      "To silence this warning, decorate the function with @tf.autograph.experimental.do_not_convert\n",
      "WARNING: AutoGraph could not transform <bound method LSTMAutoRegressor.call of <Prototype.LSTMAutoRegressor object at 0x000001CF92F35D60>> and will run it as-is.\n",
      "Please report this to the TensorFlow team. When filing the bug, set the verbosity to 10 (on Linux, `export AUTOGRAPH_VERBOSITY=10`) and attach the full output.\n",
      "Cause: module 'gast' has no attribute 'Index'\n",
      "To silence this warning, decorate the function with @tf.autograph.experimental.do_not_convert\n",
      "(32, 50)\n",
      "(32, 50)\n",
      "681/683 [============================>.] - ETA: 0s - loss: 0.0011 - mean_squared_error: 0.0011 - weighted_mean_squared_error: 0.0011(None, 50)\n",
      "683/683 [==============================] - 20s 29ms/step - loss: 0.0011 - mean_squared_error: 0.0011 - weighted_mean_squared_error: 0.0011 - val_loss: 6.2758e-04 - val_mean_squared_error: 6.2758e-04 - val_weighted_mean_squared_error: 6.2758e-04\n",
      "Epoch 2/10\n",
      "683/683 [==============================] - 18s 27ms/step - loss: 9.3192e-04 - mean_squared_error: 9.3192e-04 - weighted_mean_squared_error: 9.3192e-04 - val_loss: 5.9688e-04 - val_mean_squared_error: 5.9688e-04 - val_weighted_mean_squared_error: 5.9688e-04\n",
      "Epoch 3/10\n",
      "683/683 [==============================] - 18s 27ms/step - loss: 9.2164e-04 - mean_squared_error: 9.2164e-04 - weighted_mean_squared_error: 9.2164e-04 - val_loss: 6.0644e-04 - val_mean_squared_error: 6.0644e-04 - val_weighted_mean_squared_error: 6.0644e-04\n",
      "Epoch 4/10\n",
      "384/683 [===============>..............] - ETA: 6s - loss: 8.7781e-04 - mean_squared_error: 8.7781e-04 - weighted_mean_squared_error: 8.7781e-04"
     ]
    }
   ],
   "source": [
    "autof = LSTMAutoRegressorFactory('2020-01-01', '2020-06-01', '2020-07-01', '2020-08-01', 60)\n",
    "data = autof.create_data()\n",
    "model = autof.create_model()\n",
    "model.fit(data)"
   ]
  }
 ],
 "metadata": {
  "kernelspec": {
   "display_name": "Python 3 (ipykernel)",
   "language": "python",
   "name": "python3"
  },
  "language_info": {
   "codemirror_mode": {
    "name": "ipython",
    "version": 3
   },
   "file_extension": ".py",
   "mimetype": "text/x-python",
   "name": "python",
   "nbconvert_exporter": "python",
   "pygments_lexer": "ipython3",
   "version": "3.8.8"
  },
  "toc": {
   "base_numbering": 1,
   "nav_menu": {},
   "number_sections": false,
   "sideBar": true,
   "skip_h1_title": false,
   "title_cell": "Table of Contents",
   "title_sidebar": "Contents",
   "toc_cell": false,
   "toc_position": {},
   "toc_section_display": true,
   "toc_window_display": false
  },
  "varInspector": {
   "cols": {
    "lenName": 16,
    "lenType": 16,
    "lenVar": 40
   },
   "kernels_config": {
    "python": {
     "delete_cmd_postfix": "",
     "delete_cmd_prefix": "del ",
     "library": "var_list.py",
     "varRefreshCmd": "print(var_dic_list())"
    },
    "r": {
     "delete_cmd_postfix": ") ",
     "delete_cmd_prefix": "rm(",
     "library": "var_list.r",
     "varRefreshCmd": "cat(var_dic_list()) "
    }
   },
   "types_to_exclude": [
    "module",
    "function",
    "builtin_function_or_method",
    "instance",
    "_Feature"
   ],
   "window_display": false
  }
 },
 "nbformat": 4,
 "nbformat_minor": 5
}
